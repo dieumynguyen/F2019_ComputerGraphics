{
 "cells": [
  {
   "cell_type": "code",
   "execution_count": 1,
   "metadata": {},
   "outputs": [],
   "source": [
    "import sys\n",
    "import h5py\n",
    "import numpy as np\n",
    "import matplotlib.pyplot as plt"
   ]
  },
  {
   "cell_type": "code",
   "execution_count": 2,
   "metadata": {},
   "outputs": [],
   "source": [
    "def normalize(minimum, maximum, value):\n",
    "    norm_value = (value - minimum) / (maximum - minimum)\n",
    "    return norm_value"
   ]
  },
  {
   "cell_type": "code",
   "execution_count": 3,
   "metadata": {},
   "outputs": [],
   "source": [
    "def rgb(minimum, maximum, value):\n",
    "    minimum, maximum = float(minimum), float(maximum)\n",
    "    ratio = 2 * (value-minimum) / (maximum - minimum)\n",
    "    \n",
    "    b = int(max(0, 255*(1 - ratio)))\n",
    "    b = normalize(0, 255, b)\n",
    "    \n",
    "    r = int(max(0, 255*(ratio - 1)))\n",
    "    r = normalize(0, 255, r)\n",
    "    \n",
    "    g = 255 - b - r\n",
    "    g = normalize(0, 255, g)\n",
    "    \n",
    "    return r, g, b"
   ]
  },
  {
   "cell_type": "markdown",
   "metadata": {},
   "source": [
    "### plt.scatter(0, 0, s=200, color=xxx);"
   ]
  },
  {
   "cell_type": "code",
   "execution_count": 5,
   "metadata": {},
   "outputs": [],
   "source": [
    "filename = 'envir_hist.h5'"
   ]
  },
  {
   "cell_type": "code",
   "execution_count": 6,
   "metadata": {},
   "outputs": [],
   "source": [
    "with h5py.File(filename, 'r') as f:\n",
    "    a_group_key = list(f.keys())[0]\n",
    "    \n",
    "    # Get the data\n",
    "    data = list(f[a_group_key])"
   ]
  },
  {
   "cell_type": "code",
   "execution_count": 7,
   "metadata": {},
   "outputs": [],
   "source": [
    "dmin = np.min(data)\n",
    "dmax = np.max(data)"
   ]
  },
  {
   "cell_type": "code",
   "execution_count": null,
   "metadata": {
    "scrolled": true
   },
   "outputs": [],
   "source": [
    "dmin, dmax"
   ]
  },
  {
   "cell_type": "code",
   "execution_count": 10,
   "metadata": {},
   "outputs": [
    {
     "data": {
      "text/plain": [
       "<matplotlib.colorbar.Colorbar at 0x18936ce80>"
      ]
     },
     "execution_count": 10,
     "metadata": {},
     "output_type": "execute_result"
    },
    {
     "data": {
      "image/png": "[encoded data removed]",
      "text/plain": [
       "<Figure size 432x288 with 2 Axes>"
      ]
     },
     "metadata": {
      "needs_background": "light"
     },
     "output_type": "display_data"
    }
   ],
   "source": [
    "plt.imshow(data[4999], cmap=\"Greens\")\n",
    "plt.colorbar()"
   ]
  },
  {
   "cell_type": "code",
   "execution_count": 11,
   "metadata": {},
   "outputs": [],
   "source": [
    "# Save x and y\n",
    "x = data[100][::,0]\n",
    "y = data[100][::,1]\n",
    "\n",
    "c = np.savetxt('array.txt', (x, y))  "
   ]
  },
  {
   "cell_type": "code",
   "execution_count": 12,
   "metadata": {},
   "outputs": [],
   "source": [
    "np.savetxt(\"array.txt\", data[100], fmt=\"%s\")"
   ]
  },
  {
   "cell_type": "code",
   "execution_count": null,
   "metadata": {},
   "outputs": [],
   "source": [
    "data[100].shape"
   ]
  },
  {
   "cell_type": "code",
   "execution_count": null,
   "metadata": {},
   "outputs": [],
   "source": [
    "data[100][100][100]"
   ]
  },
  {
   "cell_type": "markdown",
   "metadata": {},
   "source": [
    "# Save maps as txt for C"
   ]
  },
  {
   "cell_type": "code",
   "execution_count": 5,
   "metadata": {},
   "outputs": [
    {
     "ename": "NameError",
     "evalue": "name 'filename' is not defined",
     "output_type": "error",
     "traceback": [
      "\u001b[0;31m---------------------------------------------------------------------------\u001b[0m",
      "\u001b[0;31mNameError\u001b[0m                                 Traceback (most recent call last)",
      "\u001b[0;32m<ipython-input-5-f9a38e6161d9>\u001b[0m in \u001b[0;36m<module>\u001b[0;34m\u001b[0m\n\u001b[0;32m----> 1\u001b[0;31m \u001b[0;32mwith\u001b[0m \u001b[0mh5py\u001b[0m\u001b[0;34m.\u001b[0m\u001b[0mFile\u001b[0m\u001b[0;34m(\u001b[0m\u001b[0mfilename\u001b[0m\u001b[0;34m,\u001b[0m \u001b[0;34m'r'\u001b[0m\u001b[0;34m)\u001b[0m \u001b[0;32mas\u001b[0m \u001b[0mf\u001b[0m\u001b[0;34m:\u001b[0m\u001b[0;34m\u001b[0m\u001b[0m\n\u001b[0m\u001b[1;32m      2\u001b[0m     \u001b[0ma_group_key\u001b[0m \u001b[0;34m=\u001b[0m \u001b[0mlist\u001b[0m\u001b[0;34m(\u001b[0m\u001b[0mf\u001b[0m\u001b[0;34m.\u001b[0m\u001b[0mkeys\u001b[0m\u001b[0;34m(\u001b[0m\u001b[0;34m)\u001b[0m\u001b[0;34m)\u001b[0m\u001b[0;34m[\u001b[0m\u001b[0;36m0\u001b[0m\u001b[0;34m]\u001b[0m\u001b[0;34m\u001b[0m\u001b[0m\n\u001b[1;32m      3\u001b[0m \u001b[0;34m\u001b[0m\u001b[0m\n\u001b[1;32m      4\u001b[0m     \u001b[0;31m# Get the data\u001b[0m\u001b[0;34m\u001b[0m\u001b[0;34m\u001b[0m\u001b[0m\n\u001b[1;32m      5\u001b[0m     \u001b[0mdata\u001b[0m \u001b[0;34m=\u001b[0m \u001b[0mlist\u001b[0m\u001b[0;34m(\u001b[0m\u001b[0mf\u001b[0m\u001b[0;34m[\u001b[0m\u001b[0ma_group_key\u001b[0m\u001b[0;34m]\u001b[0m\u001b[0;34m)\u001b[0m\u001b[0;34m\u001b[0m\u001b[0m\n",
      "\u001b[0;31mNameError\u001b[0m: name 'filename' is not defined"
     ]
    }
   ],
   "source": [
    "with h5py.File(filename, 'r') as f:\n",
    "    a_group_key = list(f.keys())[0]\n",
    "    \n",
    "    # Get the data\n",
    "    data = list(f[a_group_key])"
   ]
  },
  {
   "cell_type": "code",
   "execution_count": 14,
   "metadata": {},
   "outputs": [
    {
     "data": {
      "text/plain": [
       "array([[0., 0., 0., ..., 0., 0., 0.],\n",
       "       [0., 0., 0., ..., 0., 0., 0.],\n",
       "       [0., 0., 0., ..., 0., 0., 0.],\n",
       "       ...,\n",
       "       [0., 0., 0., ..., 0., 0., 0.],\n",
       "       [0., 0., 0., ..., 0., 0., 0.],\n",
       "       [0., 0., 0., ..., 0., 0., 0.]], dtype=float32)"
      ]
     },
     "execution_count": 14,
     "metadata": {},
     "output_type": "execute_result"
    }
   ],
   "source": [
    "data[0]"
   ]
  },
  {
   "cell_type": "code",
   "execution_count": 15,
   "metadata": {},
   "outputs": [
    {
     "ename": "KeyboardInterrupt",
     "evalue": "",
     "output_type": "error",
     "traceback": [
      "\u001b[0;31m---------------------------------------------------------------------------\u001b[0m",
      "\u001b[0;31mKeyboardInterrupt\u001b[0m                         Traceback (most recent call last)",
      "\u001b[0;32m<ipython-input-15-22c98f515c6c>\u001b[0m in \u001b[0;36m<module>\u001b[0;34m\u001b[0m\n\u001b[1;32m      3\u001b[0m \u001b[0;32mfor\u001b[0m \u001b[0mt\u001b[0m \u001b[0;32min\u001b[0m \u001b[0mrange\u001b[0m\u001b[0;34m(\u001b[0m\u001b[0;36m2560\u001b[0m\u001b[0;34m,\u001b[0m \u001b[0mtime\u001b[0m\u001b[0;34m)\u001b[0m\u001b[0;34m:\u001b[0m\u001b[0;34m\u001b[0m\u001b[0m\n\u001b[1;32m      4\u001b[0m     \u001b[0;32mif\u001b[0m \u001b[0mt\u001b[0m \u001b[0;34m%\u001b[0m \u001b[0mstepsize\u001b[0m \u001b[0;34m==\u001b[0m \u001b[0;36m0\u001b[0m\u001b[0;34m:\u001b[0m\u001b[0;34m\u001b[0m\u001b[0m\n\u001b[0;32m----> 5\u001b[0;31m         \u001b[0mnp\u001b[0m\u001b[0;34m.\u001b[0m\u001b[0msavetxt\u001b[0m\u001b[0;34m(\u001b[0m\u001b[0;34mf\"timestep_{t}.txt\"\u001b[0m\u001b[0;34m,\u001b[0m \u001b[0mdata\u001b[0m\u001b[0;34m[\u001b[0m\u001b[0mt\u001b[0m\u001b[0;34m]\u001b[0m\u001b[0;34m,\u001b[0m \u001b[0mfmt\u001b[0m\u001b[0;34m=\u001b[0m\u001b[0;34m\"%s\"\u001b[0m\u001b[0;34m)\u001b[0m\u001b[0;34m\u001b[0m\u001b[0m\n\u001b[0m",
      "\u001b[0;32m<__array_function__ internals>\u001b[0m in \u001b[0;36msavetxt\u001b[0;34m(*args, **kwargs)\u001b[0m\n",
      "\u001b[0;32m//anaconda3/envs/TEST/lib/python3.7/site-packages/numpy/lib/npyio.py\u001b[0m in \u001b[0;36msavetxt\u001b[0;34m(fname, X, fmt, delimiter, newline, header, footer, comments, encoding)\u001b[0m\n\u001b[1;32m   1432\u001b[0m             \u001b[0;32mfor\u001b[0m \u001b[0mrow\u001b[0m \u001b[0;32min\u001b[0m \u001b[0mX\u001b[0m\u001b[0;34m:\u001b[0m\u001b[0;34m\u001b[0m\u001b[0m\n\u001b[1;32m   1433\u001b[0m                 \u001b[0;32mtry\u001b[0m\u001b[0;34m:\u001b[0m\u001b[0;34m\u001b[0m\u001b[0m\n\u001b[0;32m-> 1434\u001b[0;31m                     \u001b[0mv\u001b[0m \u001b[0;34m=\u001b[0m \u001b[0mformat\u001b[0m \u001b[0;34m%\u001b[0m \u001b[0mtuple\u001b[0m\u001b[0;34m(\u001b[0m\u001b[0mrow\u001b[0m\u001b[0;34m)\u001b[0m \u001b[0;34m+\u001b[0m \u001b[0mnewline\u001b[0m\u001b[0;34m\u001b[0m\u001b[0m\n\u001b[0m\u001b[1;32m   1435\u001b[0m                 \u001b[0;32mexcept\u001b[0m \u001b[0mTypeError\u001b[0m\u001b[0;34m:\u001b[0m\u001b[0;34m\u001b[0m\u001b[0m\n\u001b[1;32m   1436\u001b[0m                     raise TypeError(\"Mismatch between array dtype ('%s') and \"\n",
      "\u001b[0;31mKeyboardInterrupt\u001b[0m: "
     ]
    }
   ],
   "source": [
    "time = len(data)\n",
    "stepsize = 1\n",
    "for t in range(2560, time):\n",
    "    if t % stepsize == 0:\n",
    "        np.savetxt(f\"timestep_{t}.txt\", data[t], fmt=\"%s\")"
   ]
  },
  {
   "cell_type": "code",
   "execution_count": 16,
   "metadata": {},
   "outputs": [],
   "source": [
    "time = len(data)\n",
    "stepsize = 1\n",
    "for t in range(time):\n",
    "#     if t % 1000 == 0:\n",
    "    np.savetxt(f\"concentrationMaps/timestep_{t}.txt\", data[t], fmt=\"%s\")"
   ]
  },
  {
   "cell_type": "markdown",
   "metadata": {},
   "source": [
    "# Preprocess position data"
   ]
  },
  {
   "cell_type": "markdown",
   "metadata": {},
   "source": [
    "3 arrays?\n",
    "- Over time, list of xy positions -> 5000 lines, each line a txt file, each file has x's then y's\n",
    "- Over time, list of direction\n",
    "- Over time, list of positions of scenting bees"
   ]
  },
  {
   "cell_type": "code",
   "execution_count": 6,
   "metadata": {},
   "outputs": [],
   "source": [
    "filename_2 = 'bee_hist.h5'"
   ]
  },
  {
   "cell_type": "code",
   "execution_count": 7,
   "metadata": {},
   "outputs": [],
   "source": [
    "bee_data = {}\n",
    "with h5py.File(filename_2, 'r') as infile:\n",
    "    for key, val in infile.items():\n",
    "        bee_data[key] = np.array(val)"
   ]
  },
  {
   "cell_type": "code",
   "execution_count": 8,
   "metadata": {},
   "outputs": [
    {
     "data": {
      "text/plain": [
       "{'bee_i': array([ 0,  1,  2, ..., 19, 10, 11]),\n",
       " 'concentration': array([0.00000000e+00, 0.00000000e+00, 1.04257317e-02, ...,\n",
       "        6.17335079e-01, 1.39811166e+01, 1.65159953e+01]),\n",
       " 'distance_from_queen': array([0.63377928, 0.69354588, 0.20994334, ..., 0.20283464, 0.33454493,\n",
       "        0.21431168]),\n",
       " 'state': array([0, 0, 0, ..., 1, 1, 1]),\n",
       " 't': array([   0,    0,    0, ..., 4999, 4999, 4999]),\n",
       " 'threshold_met': array([False, False,  True, ...,  True,  True,  True]),\n",
       " 'wx': array([ 0.        ,  0.        , -0.59802294, ..., -0.31180657,\n",
       "         0.38237147,  0.1122637 ]),\n",
       " 'wy': array([ 0.        ,  0.        , -0.80147898, ..., -0.9501456 ,\n",
       "        -0.92400869,  0.99367845]),\n",
       " 'x': array([ 0.34219808, -0.4776199 , -0.12555094, ..., -0.15917228,\n",
       "        -0.29376878, -0.04080362]),\n",
       " 'y': array([-0.53345726, -0.50287685, -0.16826518, ..., -0.12572222,\n",
       "        -0.16006316,  0.21039145])}"
      ]
     },
     "execution_count": 8,
     "metadata": {},
     "output_type": "execute_result"
    }
   ],
   "source": [
    "bee_data"
   ]
  },
  {
   "cell_type": "code",
   "execution_count": 15,
   "metadata": {},
   "outputs": [
    {
     "name": "stdout",
     "output_type": "stream",
     "text": [
      "Time: 4999"
     ]
    }
   ],
   "source": [
    "times = np.unique(bee_data['t'])\n",
    "for t in times:\n",
    "    sys.stdout.write(f'\\rTime: {t}')\n",
    "    sys.stdout.flush()\n",
    "    idxs = np.where(bee_data['t']==t)\n",
    "    x_positions = bee_data['x'][idxs]\n",
    "    y_positions = bee_data['y'][idxs]\n",
    "    bee_state = bee_data['state'][idxs]\n",
    "    \n",
    "    x_orientation = -bee_data['wx'][idxs]\n",
    "    y_orientation = -bee_data['wy'][idxs]\n",
    "#     bee_orientation = np.arctan(y_orientation / (x_orientation + 0.000001))\n",
    "    bee_orientation = np.arctan2(y_orientation, x_orientation)\n",
    "    bee_orientation = np.rad2deg(bee_orientation) % 360\n",
    "    \n",
    "    pos_data = np.array([x_positions, y_positions, bee_state, bee_orientation]).T\n",
    "    np.savetxt(f\"positionArrays/timestep_{t}.txt\", pos_data, fmt=\"%s\")\n",
    "    \n",
    "#     break"
   ]
  },
  {
   "cell_type": "code",
   "execution_count": 38,
   "metadata": {},
   "outputs": [
    {
     "data": {
      "text/plain": [
       "array([ 82,  38, -53,  87,  36,  53, -28,  -7,   6,  47,  39, -37,  83,\n",
       "       -40,  24, -48, -65,   0,  -6, -41,  73,   8,  71, -67,  83])"
      ]
     },
     "execution_count": 38,
     "metadata": {},
     "output_type": "execute_result"
    }
   ],
   "source": [
    "xx = np.arctan(y_orientation / x_orientation + 0.000001)\n",
    "np.rad2deg(xx).astype(int)"
   ]
  },
  {
   "cell_type": "code",
   "execution_count": 42,
   "metadata": {
    "scrolled": true
   },
   "outputs": [
    {
     "data": {
      "text/plain": [
       "array([[-0.21695467, -0.23659902,  1.        ],\n",
       "       [-0.27902983, -0.0322076 ,  1.        ],\n",
       "       [ 0.20209177, -0.61654064,  1.        ],\n",
       "       [-0.10662712, -0.23425217,  1.        ],\n",
       "       [ 0.13745895, -0.41498994,  1.        ],\n",
       "       [ 0.03378487,  0.0975908 ,  1.        ],\n",
       "       [ 0.08728346, -0.06212465,  1.        ],\n",
       "       [-0.19659044, -0.50271791,  1.        ],\n",
       "       [ 0.25049803, -0.47217385,  1.        ],\n",
       "       [-0.50798456, -0.12446035,  1.        ],\n",
       "       [ 0.03392955, -0.49462633,  1.        ],\n",
       "       [ 0.03680831, -0.37652462,  1.        ],\n",
       "       [-0.08448259,  0.09858076,  1.        ],\n",
       "       [ 0.10811135,  0.21292625,  1.        ],\n",
       "       [ 0.25660213, -0.00693583,  1.        ],\n",
       "       [-0.04788475, -0.12126411,  1.        ],\n",
       "       [ 0.14380924, -0.5206088 ,  1.        ],\n",
       "       [ 0.12735487,  0.03852406,  1.        ],\n",
       "       [-0.41022319, -0.18071071,  1.        ],\n",
       "       [-0.3764382 , -0.05783508,  1.        ],\n",
       "       [-0.12929469, -0.34237571,  1.        ],\n",
       "       [-0.11700531, -0.02553424,  1.        ],\n",
       "       [-0.15917228, -0.12572222,  1.        ],\n",
       "       [-0.29376878, -0.16006316,  1.        ],\n",
       "       [-0.04080362,  0.21039145,  1.        ]])"
      ]
     },
     "execution_count": 42,
     "metadata": {},
     "output_type": "execute_result"
    }
   ],
   "source": [
    "pos_data"
   ]
  },
  {
   "cell_type": "code",
   "execution_count": null,
   "metadata": {},
   "outputs": [],
   "source": [
    "bee_nums = np.unique(bee_data['bee_i'])\n",
    "bees = {}\n",
    "for bee_num in bee_nums:\n",
    "    idxs = np.where(bee_data['bee_i']==bee_num)\n",
    "    bee_state = bee_data['state'][idxs]\n",
    "    bee_x = bee_data['x'][idxs]\n",
    "    bee_y = bee_data['y'][idxs]\n",
    "    bias = bee_data['wx'][idxs], bee_data['wy'][idxs]\n",
    "    bees[bee_num] = {'x': bee_x, 'y': bee_y, 'bias': bias, 'state': bee_state}"
   ]
  },
  {
   "cell_type": "code",
   "execution_count": null,
   "metadata": {},
   "outputs": [],
   "source": [
    "positions = []"
   ]
  },
  {
   "cell_type": "code",
   "execution_count": null,
   "metadata": {
    "scrolled": false
   },
   "outputs": [],
   "source": [
    "bees"
   ]
  },
  {
   "cell_type": "code",
   "execution_count": null,
   "metadata": {},
   "outputs": [],
   "source": []
  }
 ],
 "metadata": {
  "kernelspec": {
   "display_name": "Python 3",
   "language": "python",
   "name": "python3"
  },
  "language_info": {
   "codemirror_mode": {
    "name": "ipython",
    "version": 3
   },
   "file_extension": ".py",
   "mimetype": "text/x-python",
   "name": "python",
   "nbconvert_exporter": "python",
   "pygments_lexer": "ipython3",
   "version": "3.7.0"
  }
 },
 "nbformat": 4,
 "nbformat_minor": 2
}
